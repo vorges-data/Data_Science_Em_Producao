{
 "cells": [
  {
   "cell_type": "code",
   "execution_count": 1,
   "id": "2aa4c226",
   "metadata": {
    "execution": {
     "iopub.execute_input": "2021-10-08T20:27:43.287830Z",
     "iopub.status.busy": "2021-10-08T20:27:43.287028Z",
     "iopub.status.idle": "2021-10-08T20:27:43.544733Z",
     "shell.execute_reply": "2021-10-08T20:27:43.544345Z",
     "shell.execute_reply.started": "2021-10-08T20:27:43.287608Z"
    }
   },
   "outputs": [],
   "source": [
    "import pandas as pd"
   ]
  },
  {
   "cell_type": "code",
   "execution_count": 2,
   "id": "3ca19beb",
   "metadata": {
    "execution": {
     "iopub.execute_input": "2021-10-08T20:27:43.651217Z",
     "iopub.status.busy": "2021-10-08T20:27:43.650594Z",
     "iopub.status.idle": "2021-10-08T20:27:43.661213Z",
     "shell.execute_reply": "2021-10-08T20:27:43.658703Z",
     "shell.execute_reply.started": "2021-10-08T20:27:43.651142Z"
    }
   },
   "outputs": [],
   "source": [
    "rawdatapath = '../data/raw/'"
   ]
  },
  {
   "cell_type": "code",
   "execution_count": 3,
   "id": "94688fa0",
   "metadata": {
    "ExecuteTime": {
     "end_time": "2020-07-17T09:10:53.178305Z",
     "start_time": "2020-07-17T09:10:50.932603Z"
    },
    "execution": {
     "iopub.execute_input": "2021-10-08T20:27:54.959019Z",
     "iopub.status.busy": "2021-10-08T20:27:54.958000Z",
     "iopub.status.idle": "2021-10-08T20:27:55.573631Z",
     "shell.execute_reply": "2021-10-08T20:27:55.573185Z",
     "shell.execute_reply.started": "2021-10-08T20:27:54.958938Z"
    },
    "hidden": true
   },
   "outputs": [],
   "source": [
    "df_sales_raw = pd.read_csv(rawdatapath+'train.csv', low_memory=False)\n",
    "df_store_raw = pd.read_csv(rawdatapath+'store.csv', low_memory=False)\n",
    "\n",
    "# merge\n",
    "# both files share thce same 'Store' column, therefore on='Store'\n",
    "df_raw = pd.merge(df_sales_raw, df_store_raw, how='left', on='Store')\n",
    "\n",
    "# Note on pd.read_csv low_memory (from pandas website):\n",
    "# Internally process the file in chunks, resulting in lower memory use while parsing, but possibly mixed type inference. \n",
    "# To ensure no mixed types either set False, or specify the type with the dtype parameter. \n",
    "# Note that the entire file is read into a single DataFrame regardless, use the chunksize or iterator parameter to return \n",
    "# the data in chunks. (Only valid with C parser)."
   ]
  },
  {
   "cell_type": "code",
   "execution_count": 4,
   "id": "e4df5142",
   "metadata": {
    "execution": {
     "iopub.execute_input": "2021-10-08T20:27:55.574459Z",
     "iopub.status.busy": "2021-10-08T20:27:55.574287Z",
     "iopub.status.idle": "2021-10-08T20:27:59.397051Z",
     "shell.execute_reply": "2021-10-08T20:27:59.395204Z",
     "shell.execute_reply.started": "2021-10-08T20:27:55.574443Z"
    }
   },
   "outputs": [],
   "source": [
    "df_raw.to_csv(rawdatapath+'rossmann_sales.csv', index=False)"
   ]
  },
  {
   "cell_type": "code",
   "execution_count": null,
   "id": "ad0b81b3",
   "metadata": {},
   "outputs": [],
   "source": []
  }
 ],
 "metadata": {
  "kernelspec": {
   "display_name": "Python 3 (ipykernel)",
   "language": "python",
   "name": "python3"
  },
  "language_info": {
   "codemirror_mode": {
    "name": "ipython",
    "version": 3
   },
   "file_extension": ".py",
   "mimetype": "text/x-python",
   "name": "python",
   "nbconvert_exporter": "python",
   "pygments_lexer": "ipython3",
   "version": "3.8.10"
  }
 },
 "nbformat": 4,
 "nbformat_minor": 5
}
